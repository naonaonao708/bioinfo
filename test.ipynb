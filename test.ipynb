{
 "cells": [
  {
   "cell_type": "code",
   "execution_count": 12,
   "metadata": {},
   "outputs": [
    {
     "name": "stdout",
     "output_type": "stream",
     "text": [
      "TEL01L; Telomeric region on the left arm of Chromosome I; composed of an X element core sequence, X element combinatorial repeats, and a short terminal stretch of telomeric repeats\n",
      "ARS102~Autonomously Replicating Sequence\n",
      "hypothetical protein; member of the seripauperin multigene family encoded mainly in subtelomeric regions\n",
      "hypothetical protein; identified by gene-trapping, microarray-based expression analysis, and genome-wide homology searching\n"
     ]
    }
   ],
   "source": [
    "import urllib.parse\n",
    "\n",
    "path = './s288c_n20.gff'\n",
    "\n",
    "with open(path) as f:\n",
    "    for line in f:\n",
    "        line = line.rstrip()\n",
    "        if line.startswith('#'): \n",
    "            continue\n",
    "        s = line.split('\\t')\n",
    "        items = s[8].split(';')\n",
    "        tags = dict([tmp.split('=') for tmp in items])\n",
    "        \n",
    "        if 'Note' in tags:\n",
    "            print(urllib.parse.unquote(tags['Note']))"
   ]
  },
  {
   "cell_type": "code",
   "execution_count": 13,
   "metadata": {},
   "outputs": [
    {
     "name": "stdout",
     "output_type": "stream",
     "text": [
      "#!processor NCBI annotwriter\n",
      "#!genome-build R64\n",
      "#!genome-build-accession NCBI_Assembly:GCF_000146045.2\n",
      "#!annotation-source SGD R64-2-1\n",
      "##sequence-region NC_001133.9 1 230218\n",
      "##species https://www.ncbi.nlm.nih.gov/Taxonomy/Browser/wwwtax.cgi?id=559292\n",
      "NC_001133.9\tRefSeq\tregion\t1\t230218\t.\t+\t.\tID=id0;Dbxref=taxon:559292;Name=I;chromosome=I;gbkey=Src;genome=chromosome;mol_type=genomic DNA;strain=S288C\n",
      "NC_001133.9\tRefSeq\ttelomere\t1\t801\t.\t-\t.\tID=id1;Dbxref=SGD:S000028862;Note=TEL01L%3B Telomeric region on the left arm of Chromosome I%3B composed of an X element core sequence%2C X element combinatorial repeats%2C and a short terminal stretch of telomeric repeats;gbkey=telomere\n",
      "NC_001133.9\tRefSeq\torigin_of_replication\t707\t776\t.\t+\t.\tID=id2;Dbxref=SGD:S000121252;Note=ARS102~Autonomously Replicating Sequence;gbkey=rep_origin\n",
      "NC_001133.9\tRefSeq\tgene\t1807\t2169\t.\t-\t.\tID=gene0;Dbxref=GeneID:851229;Name=PAU8;end_range=2169,.;gbkey=Gene;gene=PAU8;gene_biotype=protein_coding;locus_tag=YAL068C;partial=true;start_range=.,1807\n",
      "NC_001133.9\tRefSeq\tmRNA\t1807\t2169\t.\t-\t.\tID=rna0;Parent=gene0;Dbxref=GeneID:851229,Genbank:NM_001180043.1;Name=NM_001180043.1;end_range=2169,.;gbkey=mRNA;gene=PAU8;partial=true;product=seripauperin PAU8;start_range=.,1807;transcript_id=NM_001180043.1\n",
      "NC_001133.9\tRefSeq\texon\t1807\t2169\t.\t-\t.\tID=id3;Parent=rna0;Dbxref=GeneID:851229,Genbank:NM_001180043.1;end_range=2169,.;gbkey=mRNA;gene=PAU8;partial=true;product=seripauperin PAU8;start_range=.,1807;transcript_id=NM_001180043.1\n",
      "NC_001133.9\tRefSeq\tCDS\t1807\t2169\t.\t-\t0\tID=cds0;Parent=rna0;Dbxref=SGD:S000002142,GeneID:851229,Genbank:NP_009332.1;Name=NP_009332.1;Note=hypothetical protein%3B member of the seripauperin multigene family encoded mainly in subtelomeric regions;gbkey=CDS;gene=PAU8;product=seripauperin PAU8;protein_id=NP_009332.1\n",
      "NC_001133.9\tRefSeq\tgene\t2480\t2707\t.\t+\t.\tID=gene1;Dbxref=GeneID:1466426;Name=YAL067W-A;end_range=2707,.;gbkey=Gene;gene_biotype=protein_coding;locus_tag=YAL067W-A;partial=true;start_range=.,2480\n",
      "NC_001133.9\tRefSeq\tmRNA\t2480\t2707\t.\t+\t.\tID=rna1;Parent=gene1;Dbxref=GeneID:1466426,Genbank:NM_001184582.1;Name=NM_001184582.1;end_range=2707,.;gbkey=mRNA;partial=true;product=hypothetical protein;start_range=.,2480;transcript_id=NM_001184582.1\n",
      "NC_001133.9\tRefSeq\texon\t2480\t2707\t.\t+\t.\tID=id4;Parent=rna1;Dbxref=GeneID:1466426,Genbank:NM_001184582.1;end_range=2707,.;gbkey=mRNA;partial=true;product=hypothetical protein;start_range=.,2480;transcript_id=NM_001184582.1\n",
      "NC_001133.9\tRefSeq\tCDS\t2480\t2707\t.\t+\t0\tID=cds1;Parent=rna1;Dbxref=SGD:S000028593,GeneID:1466426,Genbank:NP_878038.1;Name=NP_878038.1;Note=hypothetical protein%3B identified by gene-trapping%2C microarray-based expression analysis%2C and genome-wide homology searching;gbkey=CDS;product=hypothetical protein;protein_id=NP_878038.1\n",
      "NC_001133.9\tRefSeq\tgene\t7235\t9016\t.\t-\t.\tID=gene2;Dbxref=GeneID:851230;Name=SEO1;end_range=9016,.;gbkey=Gene;gene=SEO1;gene_biotype=protein_coding;locus_tag=YAL067C;partial=true;start_range=.,7235\n"
     ]
    }
   ],
   "source": [
    "with open(path) as f:\n",
    "    f.readline()\n",
    "    f.readline()\n",
    "    for line in f:\n",
    "        line = line.rstrip()\n",
    "        print(line)"
   ]
  },
  {
   "cell_type": "code",
   "execution_count": 16,
   "metadata": {},
   "outputs": [
    {
     "ename": "FileNotFoundError",
     "evalue": "[Errno 2] No such file or directory: './output/test1.txt'",
     "output_type": "error",
     "traceback": [
      "\u001b[0;31m---------------------------------------------------------------------------\u001b[0m",
      "\u001b[0;31mFileNotFoundError\u001b[0m                         Traceback (most recent call last)",
      "\u001b[1;32m/Users/kohara/Desktop/bioinfo/test.ipynb Cell 3'\u001b[0m in \u001b[0;36m<cell line: 4>\u001b[0;34m()\u001b[0m\n\u001b[1;32m      <a href='vscode-notebook-cell:/Users/kohara/Desktop/bioinfo/test.ipynb#ch0000002?line=0'>1</a>\u001b[0m output \u001b[39m=\u001b[39m \u001b[39m'\u001b[39m\u001b[39m./output/test1.txt\u001b[39m\u001b[39m'\u001b[39m\n\u001b[1;32m      <a href='vscode-notebook-cell:/Users/kohara/Desktop/bioinfo/test.ipynb#ch0000002?line=2'>3</a>\u001b[0m out \u001b[39m=\u001b[39m \u001b[39m'\u001b[39m\u001b[39mHello World!\u001b[39m\u001b[39m\\n\u001b[39;00m\u001b[39m'\u001b[39m\n\u001b[0;32m----> <a href='vscode-notebook-cell:/Users/kohara/Desktop/bioinfo/test.ipynb#ch0000002?line=3'>4</a>\u001b[0m \u001b[39mwith\u001b[39;00m \u001b[39mopen\u001b[39;49m(output, \u001b[39m'\u001b[39;49m\u001b[39mw\u001b[39;49m\u001b[39m'\u001b[39;49m) \u001b[39mas\u001b[39;00m f:\n\u001b[1;32m      <a href='vscode-notebook-cell:/Users/kohara/Desktop/bioinfo/test.ipynb#ch0000002?line=4'>5</a>\u001b[0m     f\u001b[39m.\u001b[39mwrite(out)\n",
      "\u001b[0;31mFileNotFoundError\u001b[0m: [Errno 2] No such file or directory: './output/test1.txt'"
     ]
    }
   ],
   "source": [
    "output = './output/test1.txt'\n",
    "\n",
    "out = 'Hello World!\\n'\n",
    "with open(output, 'x') as f:\n",
    "    f.write(out)"
   ]
  },
  {
   "cell_type": "code",
   "execution_count": 19,
   "metadata": {},
   "outputs": [
    {
     "name": "stdout",
     "output_type": "stream",
     "text": [
      "54 62 TATATAAG\n",
      "14 22 TTTTTATA\n",
      "54 62 TATATAAA\n",
      "89 97 TTTTTATA\n",
      "62 70 TTTTTATA\n",
      "9 17 TTTTTATA\n",
      "45 53 TATAAAAA\n",
      "69 77 TATATAAA\n",
      "75 83 TTTTTATA\n"
     ]
    }
   ],
   "source": [
    "import re\n",
    "\n",
    "path = './SRR453566.sam'\n",
    "\n",
    "TATA = re.compile('TATA[AT]AA[GA]')\n",
    "TATA_rev = re.compile('[CT]TT[AT]TATA')\n",
    "\n",
    "with open(path) as f:\n",
    "    for line in f:\n",
    "        line = line.rstrip()\n",
    "        if line.startswith('@'):\n",
    "            continue\n",
    "        s = line.split('\\t')\n",
    "        sequence = s[9]\n",
    "\n",
    "        m = TATA.search(sequence)\n",
    "\n",
    "        if m:\n",
    "            print(m.start(), m.end(), m.string[m.start():m.end()])\n",
    "        \n",
    "        m = TATA_rev.search(sequence)\n",
    "\n",
    "        if m:\n",
    "            print(m.start(), m.end(), m.string[m.start():m.end()])"
   ]
  },
  {
   "cell_type": "code",
   "execution_count": 22,
   "metadata": {},
   "outputs": [],
   "source": [
    "class Fasta:\n",
    "    def __init__(self, id_, description, seq):\n",
    "        self.id = id_\n",
    "        self.description = description\n",
    "        self.seq = seq\n",
    "\n",
    "    def get_gc_content(self):\n",
    "        g_count = self.seq.count('G')\n",
    "        c_count = self.seq.count('C')\n",
    "        gc_count = (g_count + c_count) / len(self.seq)\n",
    "        return gc_count"
   ]
  },
  {
   "cell_type": "code",
   "execution_count": 23,
   "metadata": {},
   "outputs": [],
   "source": [
    "fasta = Fasta('gene01', 'nucleotide sequence of tRNA-Ser',\n",
    "              'TGGAGTGTTGTCCGAGCGGCTGAAGGAGCATGATTGGAAATCATGTATACGGGTAAATACCTGTATCGAGGGTTCAAATCCCTCACACTCCGT')"
   ]
  },
  {
   "cell_type": "code",
   "execution_count": 26,
   "metadata": {},
   "outputs": [
    {
     "data": {
      "text/plain": [
       "0.4838709677419355"
      ]
     },
     "execution_count": 26,
     "metadata": {},
     "output_type": "execute_result"
    }
   ],
   "source": [
    "fasta.get_gc_content()"
   ]
  },
  {
   "cell_type": "code",
   "execution_count": 27,
   "metadata": {},
   "outputs": [],
   "source": [
    "def read_fasta(file_name):\n",
    "     with open(file_name) as fh:\n",
    "         line = next(fh)\n",
    "         seq_id, description = line.strip('>\\n').split(' ',1)\n",
    "         seq = ''\n",
    "         for line in fh:\n",
    "             if line.startswith('>'):\n",
    "                 yield Fasta(seq_id, description, seq)\n",
    "                 seq_id, description = line.strip().strip('>').split(' ', 1)\n",
    "                 seq = ''\n",
    "             else:\n",
    "                 seq += line.strip('\\n').upper()\n",
    "         yield Fasta(seq_id, description, seq)"
   ]
  },
  {
   "cell_type": "code",
   "execution_count": null,
   "metadata": {},
   "outputs": [],
   "source": []
  }
 ],
 "metadata": {
  "interpreter": {
   "hash": "31f2aee4e71d21fbe5cf8b01ff0e069b9275f58929596ceb00d14d90e3e16cd6"
  },
  "kernelspec": {
   "display_name": "Python 3.8.9 64-bit",
   "language": "python",
   "name": "python3"
  },
  "language_info": {
   "codemirror_mode": {
    "name": "ipython",
    "version": 3
   },
   "file_extension": ".py",
   "mimetype": "text/x-python",
   "name": "python",
   "nbconvert_exporter": "python",
   "pygments_lexer": "ipython3",
   "version": "3.8.9"
  },
  "orig_nbformat": 4
 },
 "nbformat": 4,
 "nbformat_minor": 2
}
